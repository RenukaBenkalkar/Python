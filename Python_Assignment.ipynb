{
  "nbformat": 4,
  "nbformat_minor": 0,
  "metadata": {
    "colab": {
      "provenance": [],
      "authorship_tag": "ABX9TyPKitvNqZrTgFooifSfje8r",
      "include_colab_link": true
    },
    "kernelspec": {
      "name": "python3",
      "display_name": "Python 3"
    },
    "language_info": {
      "name": "python"
    }
  },
  "cells": [
    {
      "cell_type": "markdown",
      "metadata": {
        "id": "view-in-github",
        "colab_type": "text"
      },
      "source": [
        "<a href=\"https://colab.research.google.com/github/RenukaBenkalkar/Python/blob/main/Python_Assignment.ipynb\" target=\"_parent\"><img src=\"https://colab.research.google.com/assets/colab-badge.svg\" alt=\"Open In Colab\"/></a>"
      ]
    },
    {
      "cell_type": "code",
      "source": [
        "#Sampling Technique\n",
        "import pandas as pd\n",
        "flight ={\n",
        "    'CustomerName':['John','Lisa','Sara','Kiara'],\n",
        "    'SeatNumber':[20,21,22,23],\n",
        "    'NumOfFamilyMembers':[2,3,4,3]\n",
        "}\n",
        "\n",
        "d=pd.DataFrame(flight)\n",
        "print(d)\n",
        "#sampling\n",
        "d.sample(2)"
      ],
      "metadata": {
        "id": "K7tpdvksYLKR",
        "colab": {
          "base_uri": "https://localhost:8080/",
          "height": 199
        },
        "outputId": "87c2974c-b99a-47f2-b650-842c2cfe44f5"
      },
      "execution_count": null,
      "outputs": [
        {
          "output_type": "stream",
          "name": "stdout",
          "text": [
            "  CustomerName  SeatNumber  NumOfFamilyMembers\n",
            "0         John          20                   2\n",
            "1         Lisa          21                   3\n",
            "2         Sara          22                   4\n",
            "3        Kiara          23                   3\n"
          ]
        },
        {
          "output_type": "execute_result",
          "data": {
            "text/plain": [
              "  CustomerName  SeatNumber  NumOfFamilyMembers\n",
              "2         Sara          22                   4\n",
              "0         John          20                   2"
            ],
            "text/html": [
              "\n",
              "  <div id=\"df-65b1c430-bbea-40a7-b076-34a5f329b1a8\" class=\"colab-df-container\">\n",
              "    <div>\n",
              "<style scoped>\n",
              "    .dataframe tbody tr th:only-of-type {\n",
              "        vertical-align: middle;\n",
              "    }\n",
              "\n",
              "    .dataframe tbody tr th {\n",
              "        vertical-align: top;\n",
              "    }\n",
              "\n",
              "    .dataframe thead th {\n",
              "        text-align: right;\n",
              "    }\n",
              "</style>\n",
              "<table border=\"1\" class=\"dataframe\">\n",
              "  <thead>\n",
              "    <tr style=\"text-align: right;\">\n",
              "      <th></th>\n",
              "      <th>CustomerName</th>\n",
              "      <th>SeatNumber</th>\n",
              "      <th>NumOfFamilyMembers</th>\n",
              "    </tr>\n",
              "  </thead>\n",
              "  <tbody>\n",
              "    <tr>\n",
              "      <th>2</th>\n",
              "      <td>Sara</td>\n",
              "      <td>22</td>\n",
              "      <td>4</td>\n",
              "    </tr>\n",
              "    <tr>\n",
              "      <th>0</th>\n",
              "      <td>John</td>\n",
              "      <td>20</td>\n",
              "      <td>2</td>\n",
              "    </tr>\n",
              "  </tbody>\n",
              "</table>\n",
              "</div>\n",
              "    <div class=\"colab-df-buttons\">\n",
              "\n",
              "  <div class=\"colab-df-container\">\n",
              "    <button class=\"colab-df-convert\" onclick=\"convertToInteractive('df-65b1c430-bbea-40a7-b076-34a5f329b1a8')\"\n",
              "            title=\"Convert this dataframe to an interactive table.\"\n",
              "            style=\"display:none;\">\n",
              "\n",
              "  <svg xmlns=\"http://www.w3.org/2000/svg\" height=\"24px\" viewBox=\"0 -960 960 960\">\n",
              "    <path d=\"M120-120v-720h720v720H120Zm60-500h600v-160H180v160Zm220 220h160v-160H400v160Zm0 220h160v-160H400v160ZM180-400h160v-160H180v160Zm440 0h160v-160H620v160ZM180-180h160v-160H180v160Zm440 0h160v-160H620v160Z\"/>\n",
              "  </svg>\n",
              "    </button>\n",
              "\n",
              "  <style>\n",
              "    .colab-df-container {\n",
              "      display:flex;\n",
              "      gap: 12px;\n",
              "    }\n",
              "\n",
              "    .colab-df-convert {\n",
              "      background-color: #E8F0FE;\n",
              "      border: none;\n",
              "      border-radius: 50%;\n",
              "      cursor: pointer;\n",
              "      display: none;\n",
              "      fill: #1967D2;\n",
              "      height: 32px;\n",
              "      padding: 0 0 0 0;\n",
              "      width: 32px;\n",
              "    }\n",
              "\n",
              "    .colab-df-convert:hover {\n",
              "      background-color: #E2EBFA;\n",
              "      box-shadow: 0px 1px 2px rgba(60, 64, 67, 0.3), 0px 1px 3px 1px rgba(60, 64, 67, 0.15);\n",
              "      fill: #174EA6;\n",
              "    }\n",
              "\n",
              "    .colab-df-buttons div {\n",
              "      margin-bottom: 4px;\n",
              "    }\n",
              "\n",
              "    [theme=dark] .colab-df-convert {\n",
              "      background-color: #3B4455;\n",
              "      fill: #D2E3FC;\n",
              "    }\n",
              "\n",
              "    [theme=dark] .colab-df-convert:hover {\n",
              "      background-color: #434B5C;\n",
              "      box-shadow: 0px 1px 3px 1px rgba(0, 0, 0, 0.15);\n",
              "      filter: drop-shadow(0px 1px 2px rgba(0, 0, 0, 0.3));\n",
              "      fill: #FFFFFF;\n",
              "    }\n",
              "  </style>\n",
              "\n",
              "    <script>\n",
              "      const buttonEl =\n",
              "        document.querySelector('#df-65b1c430-bbea-40a7-b076-34a5f329b1a8 button.colab-df-convert');\n",
              "      buttonEl.style.display =\n",
              "        google.colab.kernel.accessAllowed ? 'block' : 'none';\n",
              "\n",
              "      async function convertToInteractive(key) {\n",
              "        const element = document.querySelector('#df-65b1c430-bbea-40a7-b076-34a5f329b1a8');\n",
              "        const dataTable =\n",
              "          await google.colab.kernel.invokeFunction('convertToInteractive',\n",
              "                                                    [key], {});\n",
              "        if (!dataTable) return;\n",
              "\n",
              "        const docLinkHtml = 'Like what you see? Visit the ' +\n",
              "          '<a target=\"_blank\" href=https://colab.research.google.com/notebooks/data_table.ipynb>data table notebook</a>'\n",
              "          + ' to learn more about interactive tables.';\n",
              "        element.innerHTML = '';\n",
              "        dataTable['output_type'] = 'display_data';\n",
              "        await google.colab.output.renderOutput(dataTable, element);\n",
              "        const docLink = document.createElement('div');\n",
              "        docLink.innerHTML = docLinkHtml;\n",
              "        element.appendChild(docLink);\n",
              "      }\n",
              "    </script>\n",
              "  </div>\n",
              "\n",
              "\n",
              "    <div id=\"df-1ba1dc76-5f7f-4ee8-80ef-ec76ad5c9930\">\n",
              "      <button class=\"colab-df-quickchart\" onclick=\"quickchart('df-1ba1dc76-5f7f-4ee8-80ef-ec76ad5c9930')\"\n",
              "                title=\"Suggest charts\"\n",
              "                style=\"display:none;\">\n",
              "\n",
              "<svg xmlns=\"http://www.w3.org/2000/svg\" height=\"24px\"viewBox=\"0 0 24 24\"\n",
              "     width=\"24px\">\n",
              "    <g>\n",
              "        <path d=\"M19 3H5c-1.1 0-2 .9-2 2v14c0 1.1.9 2 2 2h14c1.1 0 2-.9 2-2V5c0-1.1-.9-2-2-2zM9 17H7v-7h2v7zm4 0h-2V7h2v10zm4 0h-2v-4h2v4z\"/>\n",
              "    </g>\n",
              "</svg>\n",
              "      </button>\n",
              "\n",
              "<style>\n",
              "  .colab-df-quickchart {\n",
              "      --bg-color: #E8F0FE;\n",
              "      --fill-color: #1967D2;\n",
              "      --hover-bg-color: #E2EBFA;\n",
              "      --hover-fill-color: #174EA6;\n",
              "      --disabled-fill-color: #AAA;\n",
              "      --disabled-bg-color: #DDD;\n",
              "  }\n",
              "\n",
              "  [theme=dark] .colab-df-quickchart {\n",
              "      --bg-color: #3B4455;\n",
              "      --fill-color: #D2E3FC;\n",
              "      --hover-bg-color: #434B5C;\n",
              "      --hover-fill-color: #FFFFFF;\n",
              "      --disabled-bg-color: #3B4455;\n",
              "      --disabled-fill-color: #666;\n",
              "  }\n",
              "\n",
              "  .colab-df-quickchart {\n",
              "    background-color: var(--bg-color);\n",
              "    border: none;\n",
              "    border-radius: 50%;\n",
              "    cursor: pointer;\n",
              "    display: none;\n",
              "    fill: var(--fill-color);\n",
              "    height: 32px;\n",
              "    padding: 0;\n",
              "    width: 32px;\n",
              "  }\n",
              "\n",
              "  .colab-df-quickchart:hover {\n",
              "    background-color: var(--hover-bg-color);\n",
              "    box-shadow: 0 1px 2px rgba(60, 64, 67, 0.3), 0 1px 3px 1px rgba(60, 64, 67, 0.15);\n",
              "    fill: var(--button-hover-fill-color);\n",
              "  }\n",
              "\n",
              "  .colab-df-quickchart-complete:disabled,\n",
              "  .colab-df-quickchart-complete:disabled:hover {\n",
              "    background-color: var(--disabled-bg-color);\n",
              "    fill: var(--disabled-fill-color);\n",
              "    box-shadow: none;\n",
              "  }\n",
              "\n",
              "  .colab-df-spinner {\n",
              "    border: 2px solid var(--fill-color);\n",
              "    border-color: transparent;\n",
              "    border-bottom-color: var(--fill-color);\n",
              "    animation:\n",
              "      spin 1s steps(1) infinite;\n",
              "  }\n",
              "\n",
              "  @keyframes spin {\n",
              "    0% {\n",
              "      border-color: transparent;\n",
              "      border-bottom-color: var(--fill-color);\n",
              "      border-left-color: var(--fill-color);\n",
              "    }\n",
              "    20% {\n",
              "      border-color: transparent;\n",
              "      border-left-color: var(--fill-color);\n",
              "      border-top-color: var(--fill-color);\n",
              "    }\n",
              "    30% {\n",
              "      border-color: transparent;\n",
              "      border-left-color: var(--fill-color);\n",
              "      border-top-color: var(--fill-color);\n",
              "      border-right-color: var(--fill-color);\n",
              "    }\n",
              "    40% {\n",
              "      border-color: transparent;\n",
              "      border-right-color: var(--fill-color);\n",
              "      border-top-color: var(--fill-color);\n",
              "    }\n",
              "    60% {\n",
              "      border-color: transparent;\n",
              "      border-right-color: var(--fill-color);\n",
              "    }\n",
              "    80% {\n",
              "      border-color: transparent;\n",
              "      border-right-color: var(--fill-color);\n",
              "      border-bottom-color: var(--fill-color);\n",
              "    }\n",
              "    90% {\n",
              "      border-color: transparent;\n",
              "      border-bottom-color: var(--fill-color);\n",
              "    }\n",
              "  }\n",
              "</style>\n",
              "\n",
              "      <script>\n",
              "        async function quickchart(key) {\n",
              "          const quickchartButtonEl =\n",
              "            document.querySelector('#' + key + ' button');\n",
              "          quickchartButtonEl.disabled = true;  // To prevent multiple clicks.\n",
              "          quickchartButtonEl.classList.add('colab-df-spinner');\n",
              "          try {\n",
              "            const charts = await google.colab.kernel.invokeFunction(\n",
              "                'suggestCharts', [key], {});\n",
              "          } catch (error) {\n",
              "            console.error('Error during call to suggestCharts:', error);\n",
              "          }\n",
              "          quickchartButtonEl.classList.remove('colab-df-spinner');\n",
              "          quickchartButtonEl.classList.add('colab-df-quickchart-complete');\n",
              "        }\n",
              "        (() => {\n",
              "          let quickchartButtonEl =\n",
              "            document.querySelector('#df-1ba1dc76-5f7f-4ee8-80ef-ec76ad5c9930 button');\n",
              "          quickchartButtonEl.style.display =\n",
              "            google.colab.kernel.accessAllowed ? 'block' : 'none';\n",
              "        })();\n",
              "      </script>\n",
              "    </div>\n",
              "\n",
              "    </div>\n",
              "  </div>\n"
            ],
            "application/vnd.google.colaboratory.intrinsic+json": {
              "type": "dataframe",
              "summary": "{\n  \"name\": \"d\",\n  \"rows\": 2,\n  \"fields\": [\n    {\n      \"column\": \"CustomerName\",\n      \"properties\": {\n        \"dtype\": \"string\",\n        \"num_unique_values\": 2,\n        \"samples\": [\n          \"John\",\n          \"Sara\"\n        ],\n        \"semantic_type\": \"\",\n        \"description\": \"\"\n      }\n    },\n    {\n      \"column\": \"SeatNumber\",\n      \"properties\": {\n        \"dtype\": \"number\",\n        \"std\": 1,\n        \"min\": 20,\n        \"max\": 22,\n        \"num_unique_values\": 2,\n        \"samples\": [\n          20,\n          22\n        ],\n        \"semantic_type\": \"\",\n        \"description\": \"\"\n      }\n    },\n    {\n      \"column\": \"NumOfFamilyMembers\",\n      \"properties\": {\n        \"dtype\": \"number\",\n        \"std\": 1,\n        \"min\": 2,\n        \"max\": 4,\n        \"num_unique_values\": 2,\n        \"samples\": [\n          2,\n          4\n        ],\n        \"semantic_type\": \"\",\n        \"description\": \"\"\n      }\n    }\n  ]\n}"
            }
          },
          "metadata": {},
          "execution_count": 4
        }
      ]
    },
    {
      "cell_type": "code",
      "source": [
        "#Stratified sampling\n",
        "import pandas as pd\n",
        "sport={\n",
        "    'PersonName':['Sachin','yuvraj','kapil','Joy','John','Kavin'],\n",
        "    'Category':['cricket','Cricket','Football','Tennis','Tennis','Football'],\n",
        "    'CashAwards':[2000,3000,5000,7000,8000,9000]\n",
        "}\n",
        "df=pd.DataFrame(sport)\n",
        "print(d)\n",
        "df.groupby('Category').apply(lambda x:x.sample(1))\n"
      ],
      "metadata": {
        "colab": {
          "base_uri": "https://localhost:8080/",
          "height": 382
        },
        "id": "Mg89ni9Qd2Pa",
        "outputId": "79a3abb9-ea15-4da8-fdb9-50e73f363810"
      },
      "execution_count": null,
      "outputs": [
        {
          "output_type": "stream",
          "name": "stdout",
          "text": [
            "  PersonName  Category  CashAwards\n",
            "0     Sachin   cricket        2000\n",
            "1     yuvraj   Cricket        3000\n",
            "2      kapil  Football        5000\n",
            "3        Joy    Tennis        7000\n",
            "4       John    Tennis        8000\n",
            "5      Kavin  Football        9000\n"
          ]
        },
        {
          "output_type": "stream",
          "name": "stderr",
          "text": [
            "<ipython-input-12-082d773c17db>:10: DeprecationWarning: DataFrameGroupBy.apply operated on the grouping columns. This behavior is deprecated, and in a future version of pandas the grouping columns will be excluded from the operation. Either pass `include_groups=False` to exclude the groupings or explicitly select the grouping columns after groupby to silence this warning.\n",
            "  df.groupby('Category').apply(lambda x:x.sample(1))\n"
          ]
        },
        {
          "output_type": "execute_result",
          "data": {
            "text/plain": [
              "           PersonName  Category  CashAwards\n",
              "Category                                   \n",
              "Cricket  1     yuvraj   Cricket        3000\n",
              "Football 2      kapil  Football        5000\n",
              "Tennis   3        Joy    Tennis        7000\n",
              "cricket  0     Sachin   cricket        2000"
            ],
            "text/html": [
              "\n",
              "  <div id=\"df-31879b6d-25ad-489d-aa4f-bb92d253de5c\" class=\"colab-df-container\">\n",
              "    <div>\n",
              "<style scoped>\n",
              "    .dataframe tbody tr th:only-of-type {\n",
              "        vertical-align: middle;\n",
              "    }\n",
              "\n",
              "    .dataframe tbody tr th {\n",
              "        vertical-align: top;\n",
              "    }\n",
              "\n",
              "    .dataframe thead th {\n",
              "        text-align: right;\n",
              "    }\n",
              "</style>\n",
              "<table border=\"1\" class=\"dataframe\">\n",
              "  <thead>\n",
              "    <tr style=\"text-align: right;\">\n",
              "      <th></th>\n",
              "      <th></th>\n",
              "      <th>PersonName</th>\n",
              "      <th>Category</th>\n",
              "      <th>CashAwards</th>\n",
              "    </tr>\n",
              "    <tr>\n",
              "      <th>Category</th>\n",
              "      <th></th>\n",
              "      <th></th>\n",
              "      <th></th>\n",
              "      <th></th>\n",
              "    </tr>\n",
              "  </thead>\n",
              "  <tbody>\n",
              "    <tr>\n",
              "      <th>Cricket</th>\n",
              "      <th>1</th>\n",
              "      <td>yuvraj</td>\n",
              "      <td>Cricket</td>\n",
              "      <td>3000</td>\n",
              "    </tr>\n",
              "    <tr>\n",
              "      <th>Football</th>\n",
              "      <th>2</th>\n",
              "      <td>kapil</td>\n",
              "      <td>Football</td>\n",
              "      <td>5000</td>\n",
              "    </tr>\n",
              "    <tr>\n",
              "      <th>Tennis</th>\n",
              "      <th>3</th>\n",
              "      <td>Joy</td>\n",
              "      <td>Tennis</td>\n",
              "      <td>7000</td>\n",
              "    </tr>\n",
              "    <tr>\n",
              "      <th>cricket</th>\n",
              "      <th>0</th>\n",
              "      <td>Sachin</td>\n",
              "      <td>cricket</td>\n",
              "      <td>2000</td>\n",
              "    </tr>\n",
              "  </tbody>\n",
              "</table>\n",
              "</div>\n",
              "    <div class=\"colab-df-buttons\">\n",
              "\n",
              "  <div class=\"colab-df-container\">\n",
              "    <button class=\"colab-df-convert\" onclick=\"convertToInteractive('df-31879b6d-25ad-489d-aa4f-bb92d253de5c')\"\n",
              "            title=\"Convert this dataframe to an interactive table.\"\n",
              "            style=\"display:none;\">\n",
              "\n",
              "  <svg xmlns=\"http://www.w3.org/2000/svg\" height=\"24px\" viewBox=\"0 -960 960 960\">\n",
              "    <path d=\"M120-120v-720h720v720H120Zm60-500h600v-160H180v160Zm220 220h160v-160H400v160Zm0 220h160v-160H400v160ZM180-400h160v-160H180v160Zm440 0h160v-160H620v160ZM180-180h160v-160H180v160Zm440 0h160v-160H620v160Z\"/>\n",
              "  </svg>\n",
              "    </button>\n",
              "\n",
              "  <style>\n",
              "    .colab-df-container {\n",
              "      display:flex;\n",
              "      gap: 12px;\n",
              "    }\n",
              "\n",
              "    .colab-df-convert {\n",
              "      background-color: #E8F0FE;\n",
              "      border: none;\n",
              "      border-radius: 50%;\n",
              "      cursor: pointer;\n",
              "      display: none;\n",
              "      fill: #1967D2;\n",
              "      height: 32px;\n",
              "      padding: 0 0 0 0;\n",
              "      width: 32px;\n",
              "    }\n",
              "\n",
              "    .colab-df-convert:hover {\n",
              "      background-color: #E2EBFA;\n",
              "      box-shadow: 0px 1px 2px rgba(60, 64, 67, 0.3), 0px 1px 3px 1px rgba(60, 64, 67, 0.15);\n",
              "      fill: #174EA6;\n",
              "    }\n",
              "\n",
              "    .colab-df-buttons div {\n",
              "      margin-bottom: 4px;\n",
              "    }\n",
              "\n",
              "    [theme=dark] .colab-df-convert {\n",
              "      background-color: #3B4455;\n",
              "      fill: #D2E3FC;\n",
              "    }\n",
              "\n",
              "    [theme=dark] .colab-df-convert:hover {\n",
              "      background-color: #434B5C;\n",
              "      box-shadow: 0px 1px 3px 1px rgba(0, 0, 0, 0.15);\n",
              "      filter: drop-shadow(0px 1px 2px rgba(0, 0, 0, 0.3));\n",
              "      fill: #FFFFFF;\n",
              "    }\n",
              "  </style>\n",
              "\n",
              "    <script>\n",
              "      const buttonEl =\n",
              "        document.querySelector('#df-31879b6d-25ad-489d-aa4f-bb92d253de5c button.colab-df-convert');\n",
              "      buttonEl.style.display =\n",
              "        google.colab.kernel.accessAllowed ? 'block' : 'none';\n",
              "\n",
              "      async function convertToInteractive(key) {\n",
              "        const element = document.querySelector('#df-31879b6d-25ad-489d-aa4f-bb92d253de5c');\n",
              "        const dataTable =\n",
              "          await google.colab.kernel.invokeFunction('convertToInteractive',\n",
              "                                                    [key], {});\n",
              "        if (!dataTable) return;\n",
              "\n",
              "        const docLinkHtml = 'Like what you see? Visit the ' +\n",
              "          '<a target=\"_blank\" href=https://colab.research.google.com/notebooks/data_table.ipynb>data table notebook</a>'\n",
              "          + ' to learn more about interactive tables.';\n",
              "        element.innerHTML = '';\n",
              "        dataTable['output_type'] = 'display_data';\n",
              "        await google.colab.output.renderOutput(dataTable, element);\n",
              "        const docLink = document.createElement('div');\n",
              "        docLink.innerHTML = docLinkHtml;\n",
              "        element.appendChild(docLink);\n",
              "      }\n",
              "    </script>\n",
              "  </div>\n",
              "\n",
              "\n",
              "    <div id=\"df-a5be5745-7c6a-47d2-806d-bc69c68e6c09\">\n",
              "      <button class=\"colab-df-quickchart\" onclick=\"quickchart('df-a5be5745-7c6a-47d2-806d-bc69c68e6c09')\"\n",
              "                title=\"Suggest charts\"\n",
              "                style=\"display:none;\">\n",
              "\n",
              "<svg xmlns=\"http://www.w3.org/2000/svg\" height=\"24px\"viewBox=\"0 0 24 24\"\n",
              "     width=\"24px\">\n",
              "    <g>\n",
              "        <path d=\"M19 3H5c-1.1 0-2 .9-2 2v14c0 1.1.9 2 2 2h14c1.1 0 2-.9 2-2V5c0-1.1-.9-2-2-2zM9 17H7v-7h2v7zm4 0h-2V7h2v10zm4 0h-2v-4h2v4z\"/>\n",
              "    </g>\n",
              "</svg>\n",
              "      </button>\n",
              "\n",
              "<style>\n",
              "  .colab-df-quickchart {\n",
              "      --bg-color: #E8F0FE;\n",
              "      --fill-color: #1967D2;\n",
              "      --hover-bg-color: #E2EBFA;\n",
              "      --hover-fill-color: #174EA6;\n",
              "      --disabled-fill-color: #AAA;\n",
              "      --disabled-bg-color: #DDD;\n",
              "  }\n",
              "\n",
              "  [theme=dark] .colab-df-quickchart {\n",
              "      --bg-color: #3B4455;\n",
              "      --fill-color: #D2E3FC;\n",
              "      --hover-bg-color: #434B5C;\n",
              "      --hover-fill-color: #FFFFFF;\n",
              "      --disabled-bg-color: #3B4455;\n",
              "      --disabled-fill-color: #666;\n",
              "  }\n",
              "\n",
              "  .colab-df-quickchart {\n",
              "    background-color: var(--bg-color);\n",
              "    border: none;\n",
              "    border-radius: 50%;\n",
              "    cursor: pointer;\n",
              "    display: none;\n",
              "    fill: var(--fill-color);\n",
              "    height: 32px;\n",
              "    padding: 0;\n",
              "    width: 32px;\n",
              "  }\n",
              "\n",
              "  .colab-df-quickchart:hover {\n",
              "    background-color: var(--hover-bg-color);\n",
              "    box-shadow: 0 1px 2px rgba(60, 64, 67, 0.3), 0 1px 3px 1px rgba(60, 64, 67, 0.15);\n",
              "    fill: var(--button-hover-fill-color);\n",
              "  }\n",
              "\n",
              "  .colab-df-quickchart-complete:disabled,\n",
              "  .colab-df-quickchart-complete:disabled:hover {\n",
              "    background-color: var(--disabled-bg-color);\n",
              "    fill: var(--disabled-fill-color);\n",
              "    box-shadow: none;\n",
              "  }\n",
              "\n",
              "  .colab-df-spinner {\n",
              "    border: 2px solid var(--fill-color);\n",
              "    border-color: transparent;\n",
              "    border-bottom-color: var(--fill-color);\n",
              "    animation:\n",
              "      spin 1s steps(1) infinite;\n",
              "  }\n",
              "\n",
              "  @keyframes spin {\n",
              "    0% {\n",
              "      border-color: transparent;\n",
              "      border-bottom-color: var(--fill-color);\n",
              "      border-left-color: var(--fill-color);\n",
              "    }\n",
              "    20% {\n",
              "      border-color: transparent;\n",
              "      border-left-color: var(--fill-color);\n",
              "      border-top-color: var(--fill-color);\n",
              "    }\n",
              "    30% {\n",
              "      border-color: transparent;\n",
              "      border-left-color: var(--fill-color);\n",
              "      border-top-color: var(--fill-color);\n",
              "      border-right-color: var(--fill-color);\n",
              "    }\n",
              "    40% {\n",
              "      border-color: transparent;\n",
              "      border-right-color: var(--fill-color);\n",
              "      border-top-color: var(--fill-color);\n",
              "    }\n",
              "    60% {\n",
              "      border-color: transparent;\n",
              "      border-right-color: var(--fill-color);\n",
              "    }\n",
              "    80% {\n",
              "      border-color: transparent;\n",
              "      border-right-color: var(--fill-color);\n",
              "      border-bottom-color: var(--fill-color);\n",
              "    }\n",
              "    90% {\n",
              "      border-color: transparent;\n",
              "      border-bottom-color: var(--fill-color);\n",
              "    }\n",
              "  }\n",
              "</style>\n",
              "\n",
              "      <script>\n",
              "        async function quickchart(key) {\n",
              "          const quickchartButtonEl =\n",
              "            document.querySelector('#' + key + ' button');\n",
              "          quickchartButtonEl.disabled = true;  // To prevent multiple clicks.\n",
              "          quickchartButtonEl.classList.add('colab-df-spinner');\n",
              "          try {\n",
              "            const charts = await google.colab.kernel.invokeFunction(\n",
              "                'suggestCharts', [key], {});\n",
              "          } catch (error) {\n",
              "            console.error('Error during call to suggestCharts:', error);\n",
              "          }\n",
              "          quickchartButtonEl.classList.remove('colab-df-spinner');\n",
              "          quickchartButtonEl.classList.add('colab-df-quickchart-complete');\n",
              "        }\n",
              "        (() => {\n",
              "          let quickchartButtonEl =\n",
              "            document.querySelector('#df-a5be5745-7c6a-47d2-806d-bc69c68e6c09 button');\n",
              "          quickchartButtonEl.style.display =\n",
              "            google.colab.kernel.accessAllowed ? 'block' : 'none';\n",
              "        })();\n",
              "      </script>\n",
              "    </div>\n",
              "\n",
              "    </div>\n",
              "  </div>\n"
            ],
            "application/vnd.google.colaboratory.intrinsic+json": {
              "type": "dataframe",
              "summary": "{\n  \"name\": \"df\",\n  \"rows\": 4,\n  \"fields\": [\n    {\n      \"column\": \"PersonName\",\n      \"properties\": {\n        \"dtype\": \"string\",\n        \"num_unique_values\": 4,\n        \"samples\": [\n          \"kapil\",\n          \"Sachin\",\n          \"yuvraj\"\n        ],\n        \"semantic_type\": \"\",\n        \"description\": \"\"\n      }\n    },\n    {\n      \"column\": \"Category\",\n      \"properties\": {\n        \"dtype\": \"string\",\n        \"num_unique_values\": 4,\n        \"samples\": [\n          \"Football\",\n          \"cricket\",\n          \"Cricket\"\n        ],\n        \"semantic_type\": \"\",\n        \"description\": \"\"\n      }\n    },\n    {\n      \"column\": \"CashAwards\",\n      \"properties\": {\n        \"dtype\": \"number\",\n        \"std\": 2217,\n        \"min\": 2000,\n        \"max\": 7000,\n        \"num_unique_values\": 4,\n        \"samples\": [\n          5000,\n          2000,\n          3000\n        ],\n        \"semantic_type\": \"\",\n        \"description\": \"\"\n      }\n    }\n  ]\n}"
            }
          },
          "metadata": {},
          "execution_count": 12
        }
      ]
    },
    {
      "cell_type": "code",
      "execution_count": null,
      "metadata": {
        "colab": {
          "base_uri": "https://localhost:8080/"
        },
        "id": "RXwv-KSlPslL",
        "outputId": "c9d7fa12-4d36-4f41-e574-1a7d09dda84f"
      },
      "outputs": [
        {
          "output_type": "stream",
          "name": "stdout",
          "text": [
            "Enter the Marks 57\n",
            "Grade points 6: Above Average\n"
          ]
        }
      ],
      "source": [
        "#Get marks and Display grades\n",
        "marks =int(input('Enter the Marks '))\n",
        "if marks>=90 and marks<=100:\n",
        "  print('Grade points 10: ' +  'outstanding')\n",
        "elif marks>=80 and marks<90:\n",
        "  print('Grade points 9: ' + 'Exellent')\n",
        "elif marks>=70 and marks<80:\n",
        "  print('Grade points 8: ' + 'Very Good')\n",
        "elif(marks>=60) and marks<70:\n",
        "  print('Grade points 7: ' +'Good')\n",
        "elif(marks>=50) and marks<60:\n",
        "  print('Grade points 6: ' +'Above Average')\n",
        "elif(marks>=40) and marks<50:\n",
        "  print('Grade points 5: ' +'Average')\n",
        "elif(marks>=30) and marks<40:\n",
        "  print('Grade points 4: ' +'Pass')\n",
        "elif(marks>=0) and marks<30:\n",
        "  print('Grade points 0: ' +'Fail')\n",
        "else:\n",
        "  print('Enter valid Number')\n"
      ]
    },
    {
      "cell_type": "code",
      "source": [
        "#BMI Calculater\n",
        "weight=float(input('Please Enter weight in kg '))\n",
        "height=float(input('Please Enter Height in meters '))\n",
        "bmi = (weight)/(height**2)\n",
        "print('Your BMI is ',bmi)\n",
        "if bmi<=18.4:\n",
        "  print('Underweight')\n",
        "elif bmi>=18.5 and bmi <=24.9:\n",
        "  print('Normal')\n",
        "elif bmi>=25 and bmi<=39.9:\n",
        "  print('Overweight')\n",
        "elif bmi>=40.0:\n",
        "  print('obese')\n",
        "else:\n",
        "  print('Enter valid Weight and Height')\n",
        "\n"
      ],
      "metadata": {
        "colab": {
          "base_uri": "https://localhost:8080/"
        },
        "id": "6s9U2GUrYYlM",
        "outputId": "7ae3ceb5-1339-4f62-b835-84ed2cfa5b03"
      },
      "execution_count": null,
      "outputs": [
        {
          "output_type": "stream",
          "name": "stdout",
          "text": [
            "Please Enter weight in kg 50\n",
            "Please Enter Height in meters 1.56\n",
            "Your BMI is  20.5456936226167\n",
            "Normal\n"
          ]
        }
      ]
    },
    {
      "cell_type": "code",
      "source": [
        "#multiplication table\n",
        "num=int(input('Enter the Number:'))\n",
        "multiply=0\n",
        "for i in range(1,11):\n",
        "   multiply = num * i\n",
        "   print(num,'x',i, '=',multiply)"
      ],
      "metadata": {
        "colab": {
          "base_uri": "https://localhost:8080/"
        },
        "id": "ZAuPxdd0D1wc",
        "outputId": "e05ee8d9-3e1e-4c0f-84d0-4a4665adbb1b"
      },
      "execution_count": null,
      "outputs": [
        {
          "output_type": "stream",
          "name": "stdout",
          "text": [
            "Enter the Number:9\n",
            "9 x 1 = 9\n",
            "9 x 2 = 18\n",
            "9 x 3 = 27\n",
            "9 x 4 = 36\n",
            "9 x 5 = 45\n",
            "9 x 6 = 54\n",
            "9 x 7 = 63\n",
            "9 x 8 = 72\n",
            "9 x 9 = 81\n",
            "9 x 10 = 90\n"
          ]
        }
      ]
    },
    {
      "cell_type": "code",
      "source": [
        "#Student Registration Number using While Loop\n",
        "n=int(input('Enter number of students'))\n",
        "reg=5000\n",
        "i=0\n",
        "while(i<n):\n",
        "  name = input('your good name.')\n",
        "  print('Hello ',name, 'Congrate welcome to ABC university')\n",
        "  i=i+1\n",
        "  print('Your Registration number is',reg )\n",
        "  reg=reg+1\n",
        "  print('\\n')\n",
        "else:\n",
        "   print('sorry Admission over ')"
      ],
      "metadata": {
        "colab": {
          "base_uri": "https://localhost:8080/"
        },
        "id": "1ROkZ9s-MPm8",
        "outputId": "680a118f-9b48-40e3-8754-d2d55e5749c4"
      },
      "execution_count": null,
      "outputs": [
        {
          "output_type": "stream",
          "name": "stdout",
          "text": [
            "Enter number of students2\n",
            "your good name.aaaa\n",
            "Hello  aaaa Congrate welcome to ABC university\n",
            "Your Registration number is 5000\n",
            "\n",
            "\n",
            "your good name.cccc\n",
            "Hello  cccc Congrate welcome to ABC university\n",
            "Your Registration number is 5001\n",
            "\n",
            "\n",
            "sorry Admission over \n"
          ]
        }
      ]
    },
    {
      "cell_type": "code",
      "source": [
        "#Create Dictionary using 4 country data\n",
        "country={\n",
        "    'CountryName':['United Kingdom','India','France','Spain'],\n",
        "    'Population':['68.3 million','1.45 billion','68.4 million','49.1 milion'],\n",
        "    'Area':['607 square miles','1,269,219 square miles','248,573 square miles','195,360 square miles'],\n",
        "    'Capital':['London','New Delhi','Paris','Madrid']\n",
        "}\n",
        "\n",
        "country\n"
      ],
      "metadata": {
        "id": "RdhtJHOt0jiE",
        "colab": {
          "base_uri": "https://localhost:8080/"
        },
        "outputId": "e00c5b62-f8f8-4041-d64f-68ace36262aa"
      },
      "execution_count": null,
      "outputs": [
        {
          "output_type": "execute_result",
          "data": {
            "text/plain": [
              "{'CountryName': ['United Kingdom', 'India', 'France', 'Spain'],\n",
              " 'Population': ['68.3 million', '1.45 billion', '68.4 million', '49.1 milion'],\n",
              " 'Area': ['607 square miles',\n",
              "  '1,269,219 square miles',\n",
              "  '248,573 square miles',\n",
              "  '195,360 square miles'],\n",
              " 'Capital': ['London', 'New Delhi', 'Paris', 'Madrid']}"
            ]
          },
          "metadata": {},
          "execution_count": 5
        }
      ]
    },
    {
      "cell_type": "code",
      "source": [
        "#Find total price of all products in product dictionary\n",
        "products={\n",
        "    'ID' :[100,101,102],\n",
        "    'Name':['laptop','iphone','tab'],\n",
        "    'Price':[1200,500,700]\n",
        "}\n",
        "#products['Price']\n",
        "sum=0\n",
        "for i in products['Price']:\n",
        "  sum=sum+i\n",
        "  print(i)\n",
        "print(sum)\n"
      ],
      "metadata": {
        "colab": {
          "base_uri": "https://localhost:8080/"
        },
        "id": "3r97jLHP5EDu",
        "outputId": "c8b979f8-3661-4889-cfe5-5ed55adf394a"
      },
      "execution_count": null,
      "outputs": [
        {
          "output_type": "stream",
          "name": "stdout",
          "text": [
            "1200\n",
            "500\n",
            "700\n",
            "2400\n"
          ]
        }
      ]
    },
    {
      "cell_type": "code",
      "source": [
        "#Find the count of products in product dictionary\n",
        "products={\n",
        "    'ID' :[100,101,102],\n",
        "    'Name':['laptop','iphone','tab'],\n",
        "    'Price':[1200,500,700]\n",
        "}\n",
        "count=0\n",
        "for i in products['ID']:\n",
        "  count=count+1\n",
        "print(count)"
      ],
      "metadata": {
        "colab": {
          "base_uri": "https://localhost:8080/"
        },
        "id": "6gH8UPTS7acO",
        "outputId": "50ecb2f6-a38c-4b5c-bff7-b775fd6aff95"
      },
      "execution_count": null,
      "outputs": [
        {
          "output_type": "stream",
          "name": "stdout",
          "text": [
            "3\n"
          ]
        }
      ]
    },
    {
      "cell_type": "code",
      "source": [
        "#Design calculater- add, sub,mul,div using function\n",
        "ch=int(input('Enter your choice , 1 to add, 2 to sub, 3 to mul, 4 to div : '))\n",
        "a=int(input('Enter first number '))\n",
        "b=int(input('Enter second number '))\n",
        "def add(a,b):\n",
        "  return a+b\n",
        "def sub(a,b):\n",
        "  return a-b\n",
        "def mul(a,b):\n",
        "  return a*b\n",
        "def div(a,b):\n",
        "  return a/b\n",
        "\n",
        "if ch==1:\n",
        "  print('Addition ',add(a,b))\n",
        "elif ch==2:\n",
        "    print('Subtraction ',sub(a,b))\n",
        "elif ch==3:\n",
        "   print('multiplication ',mul(a,b))\n",
        "elif ch==4:\n",
        "   print('Division ',div(a,b))\n",
        "else:\n",
        "   print('Invalid choice')\n",
        "\n"
      ],
      "metadata": {
        "colab": {
          "base_uri": "https://localhost:8080/"
        },
        "id": "fiF2sx4f48Jp",
        "outputId": "503c1edb-530a-46c5-acf9-7164473fee03"
      },
      "execution_count": null,
      "outputs": [
        {
          "output_type": "stream",
          "name": "stdout",
          "text": [
            "Enter your choice , 1 to add, 2 to sub, 3 to mul, 4 to div :2\n",
            "Enter first number 10\n",
            "Enter second number 5\n",
            "Subtraction  5\n"
          ]
        }
      ]
    },
    {
      "cell_type": "code",
      "source": [
        "import numpy as np\n",
        "#convert to boolean\n",
        "arr = np.array([1,0,12,45])\n",
        "arrb =arr.astype(bool)\n",
        "print(arrb)"
      ],
      "metadata": {
        "colab": {
          "base_uri": "https://localhost:8080/"
        },
        "id": "DGJS3XFcRkdE",
        "outputId": "dbd6dc21-0c35-4df9-f5a3-04a9b1f06ce0"
      },
      "execution_count": null,
      "outputs": [
        {
          "output_type": "stream",
          "name": "stdout",
          "text": [
            "[ True False  True  True]\n"
          ]
        }
      ]
    },
    {
      "cell_type": "markdown",
      "source": [
        "Numpy Assignment\n"
      ],
      "metadata": {
        "id": "cjptbxaobGqe"
      }
    },
    {
      "cell_type": "code",
      "source": [
        "# Create 1D array of numbers from 10 to 50 inclusive\n",
        "import numpy as np\n",
        "arr = np.arange(10,51)\n",
        "print(arr)"
      ],
      "metadata": {
        "colab": {
          "base_uri": "https://localhost:8080/"
        },
        "id": "8RnLVA21bODe",
        "outputId": "21e6a81f-dca9-4475-8702-02d5ba6a6605"
      },
      "execution_count": 1,
      "outputs": [
        {
          "output_type": "stream",
          "name": "stdout",
          "text": [
            "[10 11 12 13 14 15 16 17 18 19 20 21 22 23 24 25 26 27 28 29 30 31 32 33\n",
            " 34 35 36 37 38 39 40 41 42 43 44 45 46 47 48 49 50]\n"
          ]
        }
      ]
    },
    {
      "cell_type": "code",
      "source": [
        "# 2D array of shape (3,3) with values from 1 to 9\n",
        "import numpy as np\n",
        "arr = np.arange(1,10).reshape(3,3)\n",
        "print(arr)"
      ],
      "metadata": {
        "colab": {
          "base_uri": "https://localhost:8080/"
        },
        "id": "PICCufxkbvmy",
        "outputId": "e4ca3f46-9f02-4f8a-94fc-7df7f4a00f23"
      },
      "execution_count": 3,
      "outputs": [
        {
          "output_type": "stream",
          "name": "stdout",
          "text": [
            "[[1 2 3]\n",
            " [4 5 6]\n",
            " [7 8 9]]\n"
          ]
        }
      ]
    },
    {
      "cell_type": "code",
      "source": [
        "#2.Indexing and slicing\n",
        "import numpy as np\n",
        "arr = np.array([10, 20, 30, 40, 50, 60, 70, 80, 90])\n",
        "\n",
        "#Extract first five elements\n",
        "print(arr[0:6])\n",
        "\n",
        "#Extract every alternate element starting from index 1\n",
        "print(arr[1::2])\n",
        "\n",
        "#Reverse the array using slicing\n",
        "print(arr[::-1])"
      ],
      "metadata": {
        "colab": {
          "base_uri": "https://localhost:8080/"
        },
        "id": "cAJB3mS-cUvX",
        "outputId": "dfe65c87-854f-48d6-9de9-49981d621478"
      },
      "execution_count": 16,
      "outputs": [
        {
          "output_type": "stream",
          "name": "stdout",
          "text": [
            "[10 20 30 40 50 60]\n",
            "[20 40 60 80]\n",
            "[90 80 70 60 50 40 30 20 10]\n"
          ]
        }
      ]
    },
    {
      "cell_type": "code",
      "source": [
        "#3. Matrix operation\n",
        "import numpy as np\n",
        "arr_rand1 = np.random.randint(1,20,size=(3,3))\n",
        "\n",
        "arr_rand2 = np.random.randint(1,20,size=(3,3))\n",
        "\n",
        "#sum of 2 matrix\n",
        "sum = arr_rand1 + arr_rand2\n",
        "#print(sum)\n",
        "\n",
        "#product of 2 matrix\n",
        "product = arr_rand1 * arr_rand2\n",
        "print(product)\n",
        "\n",
        "#matrix multipication\n",
        "result = np.dot(arr_rand1,arr_rand2)\n",
        "print(result)\n"
      ],
      "metadata": {
        "colab": {
          "base_uri": "https://localhost:8080/"
        },
        "id": "FNwwf4y6e9EE",
        "outputId": "977696f7-db23-4214-e0a8-43d4c8bce174"
      },
      "execution_count": 21,
      "outputs": [
        {
          "output_type": "stream",
          "name": "stdout",
          "text": [
            "[[ 70 209 176]\n",
            " [ 90 238  12]\n",
            " [180  60  27]]\n",
            "[[420 500 259]\n",
            " [255 357 162]\n",
            " [300 411 261]]\n"
          ]
        }
      ]
    },
    {
      "cell_type": "code",
      "source": [
        "#4. Broadcasting\n",
        "import numpy as np\n",
        "A = np.array([[1], [2], [3]])\n",
        "B = np.array([4, 5, 6])\n",
        "result = A + B\n",
        "print(result)\n"
      ],
      "metadata": {
        "colab": {
          "base_uri": "https://localhost:8080/"
        },
        "id": "0qjkrZHFlE2Q",
        "outputId": "bbd4c777-60cd-46f2-b330-bc6bedbd8979"
      },
      "execution_count": 22,
      "outputs": [
        {
          "output_type": "stream",
          "name": "stdout",
          "text": [
            "[[5 6 7]\n",
            " [6 7 8]\n",
            " [7 8 9]]\n"
          ]
        }
      ]
    },
    {
      "cell_type": "code",
      "source": [
        "#5.Statistic Computing\n",
        "import numpy as np\n",
        "scores = np.array([65,78,90,55,88,92,75,80])\n",
        "print(np.mean(scores))\n",
        "print(np.median(scores))\n",
        "print(np.std(scores))\n",
        "print(np.min(scores))\n",
        "print(np.max(scores))\n"
      ],
      "metadata": {
        "colab": {
          "base_uri": "https://localhost:8080/"
        },
        "id": "5lAe_tohl2aS",
        "outputId": "02d1cd72-944b-4877-8299-05ed564109b0"
      },
      "execution_count": 24,
      "outputs": [
        {
          "output_type": "stream",
          "name": "stdout",
          "text": [
            "77.875\n",
            "79.0\n",
            "11.994139193789607\n",
            "55\n",
            "92\n"
          ]
        }
      ]
    }
  ]
}