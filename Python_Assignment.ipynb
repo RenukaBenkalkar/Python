{
  "nbformat": 4,
  "nbformat_minor": 0,
  "metadata": {
    "colab": {
      "provenance": [],
      "authorship_tag": "ABX9TyM8d2mPcsAXNIccwkmTzi1A",
      "include_colab_link": true
    },
    "kernelspec": {
      "name": "python3",
      "display_name": "Python 3"
    },
    "language_info": {
      "name": "python"
    }
  },
  "cells": [
    {
      "cell_type": "markdown",
      "metadata": {
        "id": "view-in-github",
        "colab_type": "text"
      },
      "source": [
        "<a href=\"https://colab.research.google.com/github/RenukaBenkalkar/Python/blob/main/Python_Assignment.ipynb\" target=\"_parent\"><img src=\"https://colab.research.google.com/assets/colab-badge.svg\" alt=\"Open In Colab\"/></a>"
      ]
    },
    {
      "cell_type": "code",
      "execution_count": null,
      "metadata": {
        "colab": {
          "base_uri": "https://localhost:8080/"
        },
        "id": "RXwv-KSlPslL",
        "outputId": "c9d7fa12-4d36-4f41-e574-1a7d09dda84f"
      },
      "outputs": [
        {
          "output_type": "stream",
          "name": "stdout",
          "text": [
            "Enter the Marks 57\n",
            "Grade points 6: Above Average\n"
          ]
        }
      ],
      "source": [
        "#Get marks and Display grades\n",
        "marks =int(input('Enter the Marks '))\n",
        "if marks>=90 and marks<=100:\n",
        "  print('Grade points 10: ' +  'outstanding')\n",
        "elif marks>=80 and marks<90:\n",
        "  print('Grade points 9: ' + 'Exellent')\n",
        "elif marks>=70 and marks<80:\n",
        "  print('Grade points 8: ' + 'Very Good')\n",
        "elif(marks>=60) and marks<70:\n",
        "  print('Grade points 7: ' +'Good')\n",
        "elif(marks>=50) and marks<60:\n",
        "  print('Grade points 6: ' +'Above Average')\n",
        "elif(marks>=40) and marks<50:\n",
        "  print('Grade points 5: ' +'Average')\n",
        "elif(marks>=30) and marks<40:\n",
        "  print('Grade points 4: ' +'Pass')\n",
        "elif(marks>=0) and marks<30:\n",
        "  print('Grade points 0: ' +'Fail')\n",
        "else:\n",
        "  print('Enter valid Number')\n"
      ]
    },
    {
      "cell_type": "code",
      "source": [
        "#BMI Calculater\n",
        "weight=float(input('Please Enter weight in kg '))\n",
        "height=float(input('Please Enter Height in meters '))\n",
        "bmi = (weight)/(height**2)\n",
        "print('Your BMI is ',bmi)\n",
        "if bmi<=18.4:\n",
        "  print('Underweight')\n",
        "elif bmi>=18.5 and bmi <=24.9:\n",
        "  print('Normal')\n",
        "elif bmi>=25 and bmi<=39.9:\n",
        "  print('Overweight')\n",
        "elif bmi>=40.0:\n",
        "  print('obese')\n",
        "else:\n",
        "  print('Enter valid Weight and Height')\n",
        "\n"
      ],
      "metadata": {
        "colab": {
          "base_uri": "https://localhost:8080/"
        },
        "id": "6s9U2GUrYYlM",
        "outputId": "7ae3ceb5-1339-4f62-b835-84ed2cfa5b03"
      },
      "execution_count": null,
      "outputs": [
        {
          "output_type": "stream",
          "name": "stdout",
          "text": [
            "Please Enter weight in kg 50\n",
            "Please Enter Height in meters 1.56\n",
            "Your BMI is  20.5456936226167\n",
            "Normal\n"
          ]
        }
      ]
    },
    {
      "cell_type": "code",
      "source": [
        "#multiplication table\n",
        "num=int(input('Enter the Number:'))\n",
        "multiply=0\n",
        "for i in range(1,11):\n",
        "   multiply = num * i\n",
        "   print(num,'x',i, '=',multiply)"
      ],
      "metadata": {
        "colab": {
          "base_uri": "https://localhost:8080/"
        },
        "id": "ZAuPxdd0D1wc",
        "outputId": "e05ee8d9-3e1e-4c0f-84d0-4a4665adbb1b"
      },
      "execution_count": null,
      "outputs": [
        {
          "output_type": "stream",
          "name": "stdout",
          "text": [
            "Enter the Number:9\n",
            "9 x 1 = 9\n",
            "9 x 2 = 18\n",
            "9 x 3 = 27\n",
            "9 x 4 = 36\n",
            "9 x 5 = 45\n",
            "9 x 6 = 54\n",
            "9 x 7 = 63\n",
            "9 x 8 = 72\n",
            "9 x 9 = 81\n",
            "9 x 10 = 90\n"
          ]
        }
      ]
    },
    {
      "cell_type": "code",
      "source": [
        "#Student Registration Number using While Loop\n",
        "n=int(input('Enter number of students'))\n",
        "reg=5000\n",
        "i=0\n",
        "while(i<n):\n",
        "  name = input('your good name.')\n",
        "  print('Hello ',name, 'Congrate welcome to ABC university')\n",
        "  i=i+1\n",
        "  print('Your Registration number is',reg )\n",
        "  reg=reg+1\n",
        "  print('\\n')\n",
        "else:\n",
        "   print('sorry Admission over ')"
      ],
      "metadata": {
        "colab": {
          "base_uri": "https://localhost:8080/"
        },
        "id": "1ROkZ9s-MPm8",
        "outputId": "680a118f-9b48-40e3-8754-d2d55e5749c4"
      },
      "execution_count": null,
      "outputs": [
        {
          "output_type": "stream",
          "name": "stdout",
          "text": [
            "Enter number of students2\n",
            "your good name.aaaa\n",
            "Hello  aaaa Congrate welcome to ABC university\n",
            "Your Registration number is 5000\n",
            "\n",
            "\n",
            "your good name.cccc\n",
            "Hello  cccc Congrate welcome to ABC university\n",
            "Your Registration number is 5001\n",
            "\n",
            "\n",
            "sorry Admission over \n"
          ]
        }
      ]
    },
    {
      "cell_type": "code",
      "source": [
        "#Create Dictionary using 4 country data\n",
        "country={\n",
        "    'CountryName':['United Kingdom','India','France','Spain'],\n",
        "    'Population':['68.3 million','1.45 billion','68.4 million','49.1 milion'],\n",
        "    'Area':['607 square miles','1,269,219 square miles','248,573 square miles','195,360 square miles'],\n",
        "    'Capital':['London','New Delhi','Paris','Madrid']\n",
        "}\n",
        "\n",
        "country\n"
      ],
      "metadata": {
        "id": "RdhtJHOt0jiE",
        "colab": {
          "base_uri": "https://localhost:8080/"
        },
        "outputId": "e00c5b62-f8f8-4041-d64f-68ace36262aa"
      },
      "execution_count": 5,
      "outputs": [
        {
          "output_type": "execute_result",
          "data": {
            "text/plain": [
              "{'CountryName': ['United Kingdom', 'India', 'France', 'Spain'],\n",
              " 'Population': ['68.3 million', '1.45 billion', '68.4 million', '49.1 milion'],\n",
              " 'Area': ['607 square miles',\n",
              "  '1,269,219 square miles',\n",
              "  '248,573 square miles',\n",
              "  '195,360 square miles'],\n",
              " 'Capital': ['London', 'New Delhi', 'Paris', 'Madrid']}"
            ]
          },
          "metadata": {},
          "execution_count": 5
        }
      ]
    },
    {
      "cell_type": "code",
      "source": [
        "#Find total price of all products in product dictionary\n",
        "products={\n",
        "    'ID' :[100,101,102],\n",
        "    'Name':['laptop','iphone','tab'],\n",
        "    'Price':[1200,500,700]\n",
        "}\n",
        "#products['Price']\n",
        "sum=0\n",
        "for i in products['Price']:\n",
        "  sum=sum+i\n",
        "  print(i)\n",
        "print(sum)\n"
      ],
      "metadata": {
        "colab": {
          "base_uri": "https://localhost:8080/"
        },
        "id": "3r97jLHP5EDu",
        "outputId": "c8b979f8-3661-4889-cfe5-5ed55adf394a"
      },
      "execution_count": 12,
      "outputs": [
        {
          "output_type": "stream",
          "name": "stdout",
          "text": [
            "1200\n",
            "500\n",
            "700\n",
            "2400\n"
          ]
        }
      ]
    },
    {
      "cell_type": "code",
      "source": [
        "#Find the count of products in product dictionary\n",
        "products={\n",
        "    'ID' :[100,101,102],\n",
        "    'Name':['laptop','iphone','tab'],\n",
        "    'Price':[1200,500,700]\n",
        "}\n",
        "count=0\n",
        "for i in products['ID']:\n",
        "  count=count+1\n",
        "print(count)"
      ],
      "metadata": {
        "colab": {
          "base_uri": "https://localhost:8080/"
        },
        "id": "6gH8UPTS7acO",
        "outputId": "50ecb2f6-a38c-4b5c-bff7-b775fd6aff95"
      },
      "execution_count": 13,
      "outputs": [
        {
          "output_type": "stream",
          "name": "stdout",
          "text": [
            "3\n"
          ]
        }
      ]
    }
  ]
}