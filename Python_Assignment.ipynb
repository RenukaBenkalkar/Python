{
  "nbformat": 4,
  "nbformat_minor": 0,
  "metadata": {
    "colab": {
      "provenance": [],
      "authorship_tag": "ABX9TyPvnd7Dgj/t2QWMHUwEiaPh",
      "include_colab_link": true
    },
    "kernelspec": {
      "name": "python3",
      "display_name": "Python 3"
    },
    "language_info": {
      "name": "python"
    }
  },
  "cells": [
    {
      "cell_type": "markdown",
      "metadata": {
        "id": "view-in-github",
        "colab_type": "text"
      },
      "source": [
        "<a href=\"https://colab.research.google.com/github/RenukaBenkalkar/Python/blob/main/Python_Assignment.ipynb\" target=\"_parent\"><img src=\"https://colab.research.google.com/assets/colab-badge.svg\" alt=\"Open In Colab\"/></a>"
      ]
    },
    {
      "cell_type": "code",
      "execution_count": 13,
      "metadata": {
        "colab": {
          "base_uri": "https://localhost:8080/"
        },
        "id": "RXwv-KSlPslL",
        "outputId": "c9d7fa12-4d36-4f41-e574-1a7d09dda84f"
      },
      "outputs": [
        {
          "output_type": "stream",
          "name": "stdout",
          "text": [
            "Enter the Marks 57\n",
            "Grade points 6: Above Average\n"
          ]
        }
      ],
      "source": [
        "#Get marks and Display grades\n",
        "marks =int(input('Enter the Marks '))\n",
        "if marks>=90 and marks<=100:\n",
        "  print('Grade points 10: ' +  'outstanding')\n",
        "elif marks>=80 and marks<90:\n",
        "  print('Grade points 9: ' + 'Exellent')\n",
        "elif marks>=70 and marks<80:\n",
        "  print('Grade points 8: ' + 'Very Good')\n",
        "elif(marks>=60) and marks<70:\n",
        "  print('Grade points 7: ' +'Good')\n",
        "elif(marks>=50) and marks<60:\n",
        "  print('Grade points 6: ' +'Above Average')\n",
        "elif(marks>=40) and marks<50:\n",
        "  print('Grade points 5: ' +'Average')\n",
        "elif(marks>=30) and marks<40:\n",
        "  print('Grade points 4: ' +'Pass')\n",
        "elif(marks>=0) and marks<30:\n",
        "  print('Grade points 0: ' +'Fail')\n",
        "else:\n",
        "  print('Enter valid Number')\n",
        ""
      ]
    },
    {
      "cell_type": "code",
      "source": [
        "#BMI Calculater\n",
        "weight=float(input('Please Enter weight in kg '))\n",
        "height=float(input('Please Enter Height in meters '))\n",
        "bmi = (weight)/(height**2)\n",
        "print('Your BMI is ',bmi)\n",
        "if bmi<=18.4:\n",
        "  print('Underweight')\n",
        "elif bmi>=18.5 and bmi <=24.9:\n",
        "  print('Normal')\n",
        "elif bmi>=25 and bmi<=39.9:\n",
        "  print('Overweight')\n",
        "elif bmi>=40.0:\n",
        "  print('obese')\n",
        "else:\n",
        "  print('Enter valid Weight and Height')\n",
        "\n"
      ],
      "metadata": {
        "colab": {
          "base_uri": "https://localhost:8080/"
        },
        "id": "6s9U2GUrYYlM",
        "outputId": "7ae3ceb5-1339-4f62-b835-84ed2cfa5b03"
      },
      "execution_count": 2,
      "outputs": [
        {
          "output_type": "stream",
          "name": "stdout",
          "text": [
            "Please Enter weight in kg 50\n",
            "Please Enter Height in meters 1.56\n",
            "Your BMI is  20.5456936226167\n",
            "Normal\n"
          ]
        }
      ]
    },
    {
      "cell_type": "code",
      "source": [
        "#multiplication table\n",
        "num=int(input('Enter the Number:'))\n",
        "multiply=0\n",
        "for i in range(1,11):\n",
        "   multiply = num * i\n",
        "   print(num,'x',i, '=',multiply)"
      ],
      "metadata": {
        "colab": {
          "base_uri": "https://localhost:8080/"
        },
        "id": "ZAuPxdd0D1wc",
        "outputId": "e05ee8d9-3e1e-4c0f-84d0-4a4665adbb1b"
      },
      "execution_count": 11,
      "outputs": [
        {
          "output_type": "stream",
          "name": "stdout",
          "text": [
            "Enter the Number:9\n",
            "9 x 1 = 9\n",
            "9 x 2 = 18\n",
            "9 x 3 = 27\n",
            "9 x 4 = 36\n",
            "9 x 5 = 45\n",
            "9 x 6 = 54\n",
            "9 x 7 = 63\n",
            "9 x 8 = 72\n",
            "9 x 9 = 81\n",
            "9 x 10 = 90\n"
          ]
        }
      ]
    }
  ]
}