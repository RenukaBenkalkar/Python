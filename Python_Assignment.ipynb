{
  "nbformat": 4,
  "nbformat_minor": 0,
  "metadata": {
    "colab": {
      "provenance": [],
      "authorship_tag": "ABX9TyOVZpqxZbAEhVjL5KlE3bE/",
      "include_colab_link": true
    },
    "kernelspec": {
      "name": "python3",
      "display_name": "Python 3"
    },
    "language_info": {
      "name": "python"
    }
  },
  "cells": [
    {
      "cell_type": "markdown",
      "metadata": {
        "id": "view-in-github",
        "colab_type": "text"
      },
      "source": [
        "<a href=\"https://colab.research.google.com/github/RenukaBenkalkar/Python/blob/main/Python_Assignment.ipynb\" target=\"_parent\"><img src=\"https://colab.research.google.com/assets/colab-badge.svg\" alt=\"Open In Colab\"/></a>"
      ]
    },
    {
      "cell_type": "code",
      "execution_count": 13,
      "metadata": {
        "colab": {
          "base_uri": "https://localhost:8080/"
        },
        "id": "RXwv-KSlPslL",
        "outputId": "c9d7fa12-4d36-4f41-e574-1a7d09dda84f"
      },
      "outputs": [
        {
          "output_type": "stream",
          "name": "stdout",
          "text": [
            "Enter the Marks 57\n",
            "Grade points 6: Above Average\n"
          ]
        }
      ],
      "source": [
        "#Get marks and Display grades\n",
        "marks =int(input('Enter the Marks '))\n",
        "if marks>=90 and marks<=100:\n",
        "  print('Grade points 10: ' +  'outstanding')\n",
        "elif marks>=80 and marks<90:\n",
        "  print('Grade points 9: ' + 'Exellent')\n",
        "elif marks>=70 and marks<80:\n",
        "  print('Grade points 8: ' + 'Very Good')\n",
        "elif(marks>=60) and marks<70:\n",
        "  print('Grade points 7: ' +'Good')\n",
        "elif(marks>=50) and marks<60:\n",
        "  print('Grade points 6: ' +'Above Average')\n",
        "elif(marks>=40) and marks<50:\n",
        "  print('Grade points 5: ' +'Average')\n",
        "elif(marks>=30) and marks<40:\n",
        "  print('Grade points 4: ' +'Pass')\n",
        "elif(marks>=0) and marks<30:\n",
        "  print('Grade points 0: ' +'Fail')\n",
        "else:\n",
        "  print('Enter valid Number')\n",
        ""
      ]
    },
    {
      "cell_type": "code",
      "source": [
        "#BMI Calculater\n",
        "weight=float(input('Please Enter weight in kg '))\n",
        "height=float(input('Please Enter Height in meters '))\n",
        "bmi = (weight)/(height**2)\n",
        "print('Your BMI is ' +  str(bmi)) #convert float bmi to string\n",
        "if bmi<=18.4:\n",
        "  print('Underweight')\n",
        "elif bmi>=18.5 and bmi <=24.9:\n",
        "  print('Normal')\n",
        "elif bmi>=25 and bmi<=39.9:\n",
        "  print('Overweight')\n",
        "elif bmi>=40.0:\n",
        "  print('obese')\n",
        "else:\n",
        "  print('Enter valid Weight and Height')\n",
        "\n"
      ],
      "metadata": {
        "colab": {
          "base_uri": "https://localhost:8080/"
        },
        "id": "6s9U2GUrYYlM",
        "outputId": "e0106e9b-0504-4fcf-f403-e30d8ec4b36a"
      },
      "execution_count": 26,
      "outputs": [
        {
          "output_type": "stream",
          "name": "stdout",
          "text": [
            "Please Enter weight in kg 55\n",
            "Please Enter Height in meters 1.56\n",
            "Your BMI is 22.600262984878366\n",
            "Normal\n"
          ]
        }
      ]
    }
  ]
}