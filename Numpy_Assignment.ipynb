{
  "nbformat": 4,
  "nbformat_minor": 0,
  "metadata": {
    "colab": {
      "provenance": [],
      "authorship_tag": "ABX9TyOqCyxao8A3nqQX3b2mRmc2",
      "include_colab_link": true
    },
    "kernelspec": {
      "name": "python3",
      "display_name": "Python 3"
    },
    "language_info": {
      "name": "python"
    }
  },
  "cells": [
    {
      "cell_type": "markdown",
      "metadata": {
        "id": "view-in-github",
        "colab_type": "text"
      },
      "source": [
        "<a href=\"https://colab.research.google.com/github/RenukaBenkalkar/Python/blob/main/Numpy_Assignment.ipynb\" target=\"_parent\"><img src=\"https://colab.research.google.com/assets/colab-badge.svg\" alt=\"Open In Colab\"/></a>"
      ]
    },
    {
      "cell_type": "code",
      "execution_count": 1,
      "metadata": {
        "colab": {
          "base_uri": "https://localhost:8080/"
        },
        "id": "x5UD3c7ZxnfE",
        "outputId": "46a4290f-3529-448e-8ec5-913849af9157"
      },
      "outputs": [
        {
          "output_type": "stream",
          "name": "stdout",
          "text": [
            "[10 11 12 13 14 15 16 17 18 19 20 21 22 23 24 25 26 27 28 29 30 31 32 33\n",
            " 34 35 36 37 38 39 40 41 42 43 44 45 46 47 48 49 50]\n"
          ]
        }
      ],
      "source": [
        "# Create 1D array of numbers from 10 to 50 inclusive\n",
        "import numpy as np\n",
        "arr = np.arange(10,51)\n",
        "print(arr)"
      ]
    },
    {
      "cell_type": "code",
      "source": [
        "# 2D array of shape (3,3) with values from 1 to 9\n",
        "import numpy as np\n",
        "arr = np.arange(1,10).reshape(3,3)\n",
        "print(arr)"
      ],
      "metadata": {
        "colab": {
          "base_uri": "https://localhost:8080/"
        },
        "id": "IVpu1y_Gx7o9",
        "outputId": "54ba6632-05f3-4d60-d2d8-4a9698010aad"
      },
      "execution_count": 2,
      "outputs": [
        {
          "output_type": "stream",
          "name": "stdout",
          "text": [
            "[[1 2 3]\n",
            " [4 5 6]\n",
            " [7 8 9]]\n"
          ]
        }
      ]
    },
    {
      "cell_type": "code",
      "source": [
        "#2.Indexing and slicing\n",
        "import numpy as np\n",
        "arr = np.array([10, 20, 30, 40, 50, 60, 70, 80, 90])\n",
        "\n",
        "#Extract first five elements\n",
        "print(arr[0:6])\n",
        "\n",
        "#Extract every alternate element starting from index 1\n",
        "print(arr[1::2])\n",
        "\n",
        "#Reverse the array using slicing\n",
        "print(arr[::-1])"
      ],
      "metadata": {
        "id": "G9UhuTNFyHOx"
      },
      "execution_count": null,
      "outputs": []
    },
    {
      "cell_type": "code",
      "source": [
        "#3. Matrix operation\n",
        "import numpy as np\n",
        "arr_rand1 = np.random.randint(1,20,size=(3,3))\n",
        "\n",
        "arr_rand2 = np.random.randint(1,20,size=(3,3))\n",
        "\n",
        "#sum of 2 matrix\n",
        "sum = arr_rand1 + arr_rand2\n",
        "#print(sum)\n",
        "\n",
        "#product of 2 matrix\n",
        "product = arr_rand1 * arr_rand2\n",
        "print(product)\n",
        "\n",
        "#matrix multipication\n",
        "result = np.dot(arr_rand1,arr_rand2)\n",
        "print(result)"
      ],
      "metadata": {
        "id": "36FWGpknyJRG"
      },
      "execution_count": null,
      "outputs": []
    },
    {
      "cell_type": "code",
      "source": [
        "#4. Broadcasting  refers to the ability of performing operations on arrays with different shapes\n",
        "import numpy as np\n",
        "A = np.array([[1], [2], [3]])\n",
        "B = np.array([4, 5, 6])\n",
        "result = A + B\n",
        "print(result)\n"
      ],
      "metadata": {
        "id": "W0lehm-5yOKp"
      },
      "execution_count": null,
      "outputs": []
    },
    {
      "cell_type": "code",
      "source": [
        "#5.Statistic Computing\n",
        "import numpy as np\n",
        "scores = np.array([65,78,90,55,88,92,75,80])\n",
        "print(\"Mean is \", np.mean(scores))\n",
        "print(\"Median is \", np.median(scores))\n",
        "print(\"Standard Deviation is \", np.std(scores))\n",
        "print(\"Min Score is \", np.min(scores))\n",
        "print(\"Max Score is \", np.max(scores))\n"
      ],
      "metadata": {
        "colab": {
          "base_uri": "https://localhost:8080/"
        },
        "id": "M1NE7Q0iyS4f",
        "outputId": "c61c39fe-71aa-424a-adb1-87352b48b1d9"
      },
      "execution_count": 5,
      "outputs": [
        {
          "output_type": "stream",
          "name": "stdout",
          "text": [
            "Mean is  77.875\n",
            "Median is  79.0\n",
            "Standard Deviation is  11.994139193789607\n",
            "Min Score is  55\n",
            "Max Score is  92\n"
          ]
        }
      ]
    }
  ]
}